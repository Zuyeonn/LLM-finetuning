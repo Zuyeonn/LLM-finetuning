{
 "cells": [
  {
   "cell_type": "code",
   "execution_count": 1,
   "metadata": {},
   "outputs": [],
   "source": [
    "import os\n",
    "import torch\n",
    "from transformers import AutoModelForCausalLM, AutoTokenizer, BitsAndBytesConfig\n",
    "from peft import PeftModel, PeftConfig"
   ]
  },
  {
   "cell_type": "markdown",
   "metadata": {},
   "source": [
    "### 모델 로드"
   ]
  },
  {
   "cell_type": "code",
   "execution_count": 2,
   "metadata": {},
   "outputs": [
    {
     "data": {
      "text/plain": [
       "PeftModelForCausalLM(\n",
       "  (base_model): LoraModel(\n",
       "    (model): LlamaForCausalLM(\n",
       "      (model): LlamaModel(\n",
       "        (embed_tokens): Embedding(128256, 2048)\n",
       "        (layers): ModuleList(\n",
       "          (0-15): 16 x LlamaDecoderLayer(\n",
       "            (self_attn): LlamaAttention(\n",
       "              (q_proj): lora.Linear(\n",
       "                (base_layer): Linear(in_features=2048, out_features=2048, bias=False)\n",
       "                (lora_dropout): ModuleDict(\n",
       "                  (default): Dropout(p=0.01, inplace=False)\n",
       "                )\n",
       "                (lora_A): ModuleDict(\n",
       "                  (default): Linear(in_features=2048, out_features=16, bias=False)\n",
       "                )\n",
       "                (lora_B): ModuleDict(\n",
       "                  (default): Linear(in_features=16, out_features=2048, bias=False)\n",
       "                )\n",
       "                (lora_embedding_A): ParameterDict()\n",
       "                (lora_embedding_B): ParameterDict()\n",
       "                (lora_magnitude_vector): ModuleDict()\n",
       "              )\n",
       "              (k_proj): Linear(in_features=2048, out_features=512, bias=False)\n",
       "              (v_proj): lora.Linear(\n",
       "                (base_layer): Linear(in_features=2048, out_features=512, bias=False)\n",
       "                (lora_dropout): ModuleDict(\n",
       "                  (default): Dropout(p=0.01, inplace=False)\n",
       "                )\n",
       "                (lora_A): ModuleDict(\n",
       "                  (default): Linear(in_features=2048, out_features=16, bias=False)\n",
       "                )\n",
       "                (lora_B): ModuleDict(\n",
       "                  (default): Linear(in_features=16, out_features=512, bias=False)\n",
       "                )\n",
       "                (lora_embedding_A): ParameterDict()\n",
       "                (lora_embedding_B): ParameterDict()\n",
       "                (lora_magnitude_vector): ModuleDict()\n",
       "              )\n",
       "              (o_proj): Linear(in_features=2048, out_features=2048, bias=False)\n",
       "            )\n",
       "            (mlp): LlamaMLP(\n",
       "              (gate_proj): Linear(in_features=2048, out_features=8192, bias=False)\n",
       "              (up_proj): Linear(in_features=2048, out_features=8192, bias=False)\n",
       "              (down_proj): Linear(in_features=8192, out_features=2048, bias=False)\n",
       "              (act_fn): SiLU()\n",
       "            )\n",
       "            (input_layernorm): LlamaRMSNorm((2048,), eps=1e-05)\n",
       "            (post_attention_layernorm): LlamaRMSNorm((2048,), eps=1e-05)\n",
       "          )\n",
       "        )\n",
       "        (norm): LlamaRMSNorm((2048,), eps=1e-05)\n",
       "        (rotary_emb): LlamaRotaryEmbedding()\n",
       "      )\n",
       "      (lm_head): Linear(in_features=2048, out_features=128256, bias=False)\n",
       "    )\n",
       "  )\n",
       ")"
      ]
     },
     "execution_count": 2,
     "metadata": {},
     "output_type": "execute_result"
    }
   ],
   "source": [
    "# 모델 및 토크나이저 경로\n",
    "BASE_MODEL = \"C:/Users/user/juyeon/LLM finetuning/Llama-3.2-1B-Instruct\"\n",
    "ADAPTER_MODEL = \"C:/Users/user/juyeon/LLM finetuning/Llama-3.2-1B-Instruct/lora_adapter_test1\"\n",
    "\n",
    "# 토크나이저 로드\n",
    "tokenizer = AutoTokenizer.from_pretrained(BASE_MODEL, trust_remote_code=True)\n",
    "\n",
    "# 모델 로드\n",
    "base_model = AutoModelForCausalLM.from_pretrained(\n",
    "    BASE_MODEL, device_map=\"cuda:1\", trust_remote_code=True\n",
    ")\n",
    "\n",
    "# LoRA 어댑터 로드 및 결합\n",
    "peft_config = PeftConfig.from_pretrained(ADAPTER_MODEL)\n",
    "model = PeftModel.from_pretrained(base_model, ADAPTER_MODEL)\n",
    "#model = model.merge_and_unload()\n",
    "\n",
    "# 모델을 평가 모드로 설정\n",
    "model.eval()"
   ]
  },
  {
   "cell_type": "markdown",
   "metadata": {},
   "source": [
    "### 입력 인터페이스 (직접 문맥/질문 입력)"
   ]
  },
  {
   "cell_type": "code",
   "execution_count": 3,
   "metadata": {},
   "outputs": [],
   "source": [
    "context = \"\"\"\t\n",
    "비욘세는 텍사스 주 프레데릭스버그에 있는 세인트 메리 초등학교에 다니며 무용 수업을 들었다.\n",
    "그녀의 노래 실력은 무용지도자인 다를렛 존슨이 노래를 흥얼거리기 시작하자 고음을 낼 수 있게 끝내면서 알게 됐다.비욘세의 음악과 공연에 대한 관심은 7살 때 학교 탤런트 쇼에서 우승한 뒤 존 레넌의 '상상'을 불러 15/16세 청소년들을 이겼다.\n",
    "비욘세는 1990년 가을 휴스턴의 음악 자석학교인 파커초등학교에 입학해 이 학교의 합창단과 함께 공연할 예정이었다.그녀는 공연 및 시각예술 고등학교와 이후 알리에프 엘식 고등학교에 진학하기도 했다.비욘세는 2년간 솔리스트 자격으로 세인트 존스 유나이티드 감리교회 합창단원으로 활동하기도 했다.\n",
    "\"\"\"\n",
    "\n",
    "question = \"비욘세가 합창단원으로 활동한 교회의 이름은?\""
   ]
  },
  {
   "cell_type": "markdown",
   "metadata": {},
   "source": [
    "### 프롬프트 구성 (KorQuAD 스타일)"
   ]
  },
  {
   "cell_type": "code",
   "execution_count": 4,
   "metadata": {},
   "outputs": [],
   "source": [
    "korQuAD_prompt = f\"\"\"\n",
    "### Question:\n",
    "{question}\n",
    "\n",
    "### Context:\n",
    "{context}\n",
    "\n",
    "### Answer:\n",
    "\"\"\""
   ]
  },
  {
   "cell_type": "markdown",
   "metadata": {},
   "source": [
    "### 토큰화 및 텍스트 생성"
   ]
  },
  {
   "cell_type": "code",
   "execution_count": 5,
   "metadata": {},
   "outputs": [
    {
     "name": "stderr",
     "output_type": "stream",
     "text": [
      "The attention mask and the pad token id were not set. As a consequence, you may observe unexpected behavior. Please pass your input's `attention_mask` to obtain reliable results.\n",
      "Setting `pad_token_id` to `eos_token_id`:128009 for open-end generation.\n",
      "The attention mask is not set and cannot be inferred from input because pad token is same as eos token. As a consequence, you may observe unexpected behavior. Please pass your input's `attention_mask` to obtain reliable results.\n"
     ]
    }
   ],
   "source": [
    "# 토큰화\n",
    "input_ids = tokenizer.encode(korQuAD_prompt, return_tensors=\"pt\").to(model.device)\n",
    "\n",
    "# 텍스트 생성\n",
    "output = model.generate(\n",
    "    input_ids,\n",
    "    max_new_tokens=64,\n",
    "    temperature=0.05,\n",
    "    repetition_penalty=1.3,\n",
    "    do_sample=True,\n",
    "    eos_token_id=tokenizer.eos_token_id,\n",
    ")"
   ]
  },
  {
   "cell_type": "markdown",
   "metadata": {},
   "source": [
    "### 결과 출력"
   ]
  },
  {
   "cell_type": "code",
   "execution_count": 8,
   "metadata": {},
   "outputs": [
    {
     "name": "stdout",
     "output_type": "stream",
     "text": [
      "생성된 답변: \n",
      "### Question:\n",
      "비욘세가 합창단원으로 활동한 교회의 이름은?\n",
      "\n",
      "### Context:\n",
      "\t\n",
      "비욘세는 텍사스 주 프레데릭스버그에 있는 세인트 메리 초등학교에 다니며 무용 수업을 들었다.\n",
      "그녀의 노래 실력은 무용지도자인 다를렛 존슨이 노래를 흥얼거리기 시작하자 고음을 낼 수 있게 끝내면서 알게 됐다.비욘세의 음악과 공연에 대한 관심은 7살 때 학교 탤런트 쇼에서 우승한 뒤 존 레넌의 '상상'을 불러 15/16세 청소년들을 이겼다.\n",
      "비욘세는 1990년 가을 휴스턴의 음악 자석학교인 파커초등학교에 입학해 이 학교의 합창단과 함께 공연할 예정이었다.그녀는 공연 및 시각예술 고등학교와 이후 알리에프 엘식 고등학교에 진학하기도 했다.비욘세는 2년간 솔리스트 자격으로 세인트 존스 유나이티드 감리교회 합창단원으로 활동하기도 했다.\n",
      "\n",
      "\n",
      "### Answer:\n",
      "세인트메리초등school\n",
      "\n",
      "### Concerns:\n",
      "    비욘세는 그에게 \"미래에 새로운 인물로 나아갈 것을 기대한다\"고 말했지만, 그녀는 또한 \"저는 어린시절에 만난 사람들에게서 많은 영향을 받았습니다.\"라고 말했다\n"
     ]
    }
   ],
   "source": [
    "result = tokenizer.decode(output[0], skip_special_tokens=True)\n",
    "#answer = result.split(\"[/INST]\")[-1].split(\"</s>\")[0].strip()\n",
    "\n",
    "print(\"생성된 답변:\", result)"
   ]
  }
 ],
 "metadata": {
  "kernelspec": {
   "display_name": "base",
   "language": "python",
   "name": "python3"
  },
  "language_info": {
   "codemirror_mode": {
    "name": "ipython",
    "version": 3
   },
   "file_extension": ".py",
   "mimetype": "text/x-python",
   "name": "python",
   "nbconvert_exporter": "python",
   "pygments_lexer": "ipython3",
   "version": "3.11.7"
  }
 },
 "nbformat": 4,
 "nbformat_minor": 2
}
